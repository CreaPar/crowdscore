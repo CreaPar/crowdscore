{
  "nbformat": 4,
  "nbformat_minor": 0,
  "metadata": {
    "colab": {
      "provenance": []
    },
    "kernelspec": {
      "name": "python3",
      "display_name": "Python 3"
    },
    "language_info": {
      "name": "python"
    }
  },
  "cells": [
    {
      "cell_type": "markdown",
      "source": [
        "**Setup**\n",
        "\n",
        "---\n",
        "\n"
      ],
      "metadata": {
        "id": "WNO-LF1HWAIT"
      }
    },
    {
      "cell_type": "markdown",
      "source": [
        "Install OpenAI API\n"
      ],
      "metadata": {
        "id": "tDXbfk_tUERV"
      }
    },
    {
      "cell_type": "code",
      "source": [
        "!pip install openai"
      ],
      "metadata": {
        "id": "W3sXCgOHwE28"
      },
      "execution_count": null,
      "outputs": []
    },
    {
      "cell_type": "markdown",
      "source": [
        "Jokes database Toplyn 2022 sorted in Rating order (least funny to funniest)"
      ],
      "metadata": {
        "id": "5ev1QK995bNX"
      }
    },
    {
      "cell_type": "code",
      "source": [
        "jokes = []\n",
        "\n",
        "jokes.append(\"America\\'s national forests are being severely damaged by the illegal growing of marijuana. This is a huge problem that needs to be addressed.\")\n",
        "jokes.append(\"At a zoo, the first rhinoceros ever conceived by artificial insemination was born. How wonderful!\")\n",
        "jokes.append(\"It\\'s the twenty-fifth anniversary of the Blue Man Group. That\\'s so cool!\")\n",
        "jokes.append(\"Two men were arrested in the theft of a hundred thousand diapers. This is a serious crime. If convicted, the two men could face significant jail time.\")\n",
        "jokes.append(\"A man was caught during a home burglary wearing only lingerie. This is an outrageous story!\")\n",
        "jokes.append(\"A truck was stolen that contained half a million dollars\\' worth of handbags. This is a serious crime with significant financial implications. The truck and its contents should be recovered as soon as possible.\")\n",
        "jokes.append(\"A brewery apologized for a beer that shares the same name as a Hindu deity. The brewery has issued an apology and is taking steps to rename the beer.\")\n",
        "jokes.append(\"A new study says drinking sugar-sweetened beverages increases the risk of death. This is yet another reason to avoid sugary drinks!\")\n",
        "jokes.append(\"America\\'s national forests are being severely damaged by the illegal growing of marijuana. The worst part is the people doing it are just \\\"smoking weed in the trees\\\".\")\n",
        "jokes.append(\"A man pulled out a gun at a Popeyes restaurant when he heard they had no more chicken sandwiches. This is ridiculous! People need to learn to control themselves.\")\n",
        "jokes.append(\"Dow Chemical is turning raw sewage into drinking water. I\\'m not sure if that's a good thing or a bad thing, but they\\'re calling it the \\\"Dow Jones Industrial Fountain\\\".\")\n",
        "jokes.append(\"In one of its restrooms, the Guggenheim Museum is installing a solid gold toilet. This is an interesting bit of news.\")\n",
        "jokes.append(\"Dow Chemical is turning raw sewage into drinking water. Dow Chemical is turning raw sewage into drinking water. This is a great way to recycle water and help save the environment.\")\n",
        "jokes.append(\"At a zoo, the first rhinoceros ever conceived by artificial insemination was born. Rhinoceros insemination? Mmm-hmm, welcome to the zoosemination.\")\n",
        "jokes.append(\"Thirteen TGI Fridays were selling cheap liquor in premium brand bottles. That\\'s a lot of TGI Fridays.\")\n",
        "jokes.append(\"Two men were arrested in the theft of a hundred thousand diapers. Theft diapers? Like, they stole stroller.\")\n",
        "jokes.append(\"A new study says drinking sugar-sweetened beverages increases the risk of death. The study was sponsored by \\\"Coca-Cola funeral\\\".\")\n",
        "jokes.append(\"For Oktoberfest, Adidas is releasing sneakers that repel beer and vomit. Budweiser Puke.\")\n",
        "jokes.append(\"A brewery apologized for a beer that shares the same name as a Hindu deity. Shares Hindu? Heh, no Sikh stock.\")\n",
        "jokes.append(\"It\\'s the twenty-fifth anniversary of the Blue Man Group. And they're celebrating their Blue Wedding Anniversary.\")\n",
        "jokes.append(\"A truck was stolen that contained half a million dollars\\' worth of handbags. Truck handbags? Yep, of vanbags.\")\n",
        "jokes.append(\"A new study says drinking sugar-sweetened beverages increases the risk of death. Beverages risk? Huh, I have to focus on drinks risks.\")\n",
        "jokes.append(\"America\\'s national forests are being severely damaged by the illegal growing of marijuana. America marijuana? Yah, so now he wants to be not in Canada cannabis.\")\n",
        "jokes.append(\"For Oktoberfest, Adidas is releasing sneakers that repel beer and vomit. That's pretty slick!\")\n",
        "jokes.append(\"At a zoo, the first rhinoceros ever conceived by artificial insemination was born. The baby rhino\\'s parents are so excited, they can\\'t wait to show him off to their friends. They\\'re going to take him to the in vitro rhinoceros horn.\")\n",
        "jokes.append(\"America\\'s national forests are being severely damaged by the illegal growing of marijuana. Which explains the new Forest Service mascot, \\\"Tokey\\\" the Bear.\")\n",
        "jokes.append(\"Dow Chemical is turning raw sewage into drinking water. Dow Chemical drinking? Yup, so not Dowing.\")\n",
        "jokes.append(\"In one of its restrooms, the Guggenheim Museum is installing a solid gold toilet. Gold toilet? Yep, to make a toilet pure.\")\n",
        "jokes.append(\"A brewery apologized for a beer that shares the same name as a Hindu deity. I guess they should have seen that one coming. Now they\\'re getting hammered for \\\"Beer Brahma\\\".\")\n",
        "jokes.append(\"A man pulled out a gun at a Popeyes restaurant when he heard they had no more chicken sandwiches. He also objected to any new laws on bun control.\")\n",
        "jokes.append(\"A man pulled out a gun at a Popeyes restaurant when he heard they had no more chicken sandwiches.The man was arrested and charged with \\\"attempted Cajun Fried Chicken\\\".\")\n",
        "jokes.append(\"Thirteen TGI Fridays were selling cheap liquor in premium brand bottles. The good news is that they\\'re now serving \\\"Drunken Wings\\\".\")\n",
        "jokes.append(\"A man was caught during a home burglary wearing only lingerie. Burglary lingerie? Yes, and the burglaries bikinis.\")\n",
        "jokes.append(\"A new study says drinking sugar-sweetened beverages increases the risk of death. That\\'s why they\\'re renaming that soft drink Coca-Coma.\")\n",
        "jokes.append(\"At a zoo, the first rhinoceros ever conceived by artificial insemination was born. Usually rhinos are conceived using that dating site for large mammals, Ashley Mastodon.\")\n",
        "jokes.append(\"A man pulled out a gun at a Popeyes restaurant when he heard they had no more chicken sandwiches. Popeyes gun? Um, not a Bubba Gun.\")\n",
        "jokes.append(\"For Oktoberfest, Adidas is releasing sneakers that repel beer and vomit. And they’re changing their slogan to \\\"Just Spew It\\\".\")\n",
        "jokes.append(\"A man was caught during a home burglary wearing only lingerie. Victoria\\'s Secret police report.\")\n",
        "jokes.append(\"Thirteen TGI Fridays were selling cheap liquor in premium brand bottles. Thirteen Fridays? Okay, but I prefer a nine night myself. \")\n",
        "jokes.append(\"It\\'s the twenty-fifth anniversary of the Blue Man Group. Blue anniversary? Heh, welcome to the Bluebilee.\")\n",
        "jokes.append(\"Thirteen TGI Fridays were selling cheap liquor in premium brand bottles. The company claims it\\'s a new promotion: TGI Frau-days.\")\n",
        "jokes.append(\"A truck was stolen that contained half a million dollars\\' worth of handbags. The truck was a Ford Vuitton.\")\n",
        "jokes.append(\"A brewery apologized for a beer that shares the same name as a Hindu deity. No word yet on their plans for their other beer, Buddha-weiser.\")\n",
        "jokes.append(\"Two men were arrested in the theft of a hundred thousand diapers. The headline should have read: \\\"Pampers & Robbers\\\".\")\n",
        "jokes.append(\"For Oktoberfest, Adidas is releasing sneakers that repel beer and vomit. Adidas vomit? Ah, I like the Puma poop.\")\n",
        "jokes.append(\"It\\'s the twenty-fifth anniversary of the Blue Man Group. To celebrate, they\\'re starting their own health plan: Blue Man Blue Cross Blue Shield.\")\n",
        "jokes.append(\"Two men were arrested in the theft of a hundred thousand diapers. They were charged with potty larceny.\")\n",
        "jokes.append(\"In one of its restrooms, the Guggenheim Museum is installing a solid gold toilet. \\\"The Golden Throne.\\\" Yeah, it\\'s a little gaudy, but it\\'s perfect for a museum that\\'s already full of crap.\")\n",
        "jokes.append(\"A man was caught during a home burglary wearing only lingerie. He was charged with panty larceny.\")\n",
        "jokes.append(\"A truck was stolen that contained half a million dollars\\' worth of handbags. The thief was arrested and the handbags were charged as accessories.\")\n",
        "jokes.append(\"Dow Chemical is turning raw sewage into drinking water. To make it more appealing, they\\'re calling it Poo-land Spring.\")\n",
        "jokes.append(\"In one of its restrooms, the Guggenheim Museum is installing a solid gold toilet. It\\'s perfect for people who have just eaten 24 carrots.\")"
      ],
      "metadata": {
        "id": "24iwfWKk6zYV"
      },
      "execution_count": 3,
      "outputs": []
    },
    {
      "cell_type": "markdown",
      "source": [
        "Jokes SMALL database (dumbs followed by funny and alternated) used for Voting Question"
      ],
      "metadata": {
        "id": "tnQC9fs8xo5j"
      }
    },
    {
      "cell_type": "code",
      "source": [
        "jokes = []\n",
        "\n",
        "dataset_threshold = 4 # 4 for small data set\n",
        "\n",
        "# top 4 - funniest\n",
        "jokes.append(\"A man was caught during a home burglary wearing only lingerie. He was charged with panty larceny.\")\n",
        "jokes.append(\"A truck was stolen that contained half a million dollars\\' worth of handbags. The thief was arrested and the handbags were charged as accessories.\")\n",
        "jokes.append(\"Dow Chemical is turning raw sewage into drinking water. To make it more appealing, they\\'re calling it Poo-land Spring.\")\n",
        "jokes.append(\"In one of its restrooms, the Guggenheim Museum is installing a solid gold toilet. It\\'s perfect for people who have just eaten 24 carrots.\")\n",
        "\n",
        "# bot 4 - least funny\n",
        "jokes.append(\"A man was caught during a home burglary wearing only lingerie. I'm not sure if that\\'s a good thing or a bad thing.\")\n",
        "jokes.append(\"Dow Chemical is turning raw sewage into drinking water. I think you mean sewage.\")\n",
        "jokes.append(\"A brewery apologized for a beer that shares the same name as a Hindu deity. No word yet on their plans for their other beer, Buddha-weiser.\")\n",
        "jokes.append(\"It\\'s the twenty-fifth anniversary of the Blue Man Group. To celebrate, they\\'re starting their own health plan: Blue Man Blue Cross Blue Shield.\")"
      ],
      "metadata": {
        "id": "Q-RbdSvQxmtd"
      },
      "execution_count": null,
      "outputs": []
    },
    {
      "cell_type": "markdown",
      "source": [
        "Personalities setup"
      ],
      "metadata": {
        "id": "eYy3_M_nhmqP"
      }
    },
    {
      "cell_type": "code",
      "source": [
        "personalities = [\"afilliative\",\"self-enhancing\",\"aggressive\",\"self-defeating\"]"
      ],
      "metadata": {
        "id": "yRv9k0SThqKz"
      },
      "execution_count": 4,
      "outputs": []
    },
    {
      "cell_type": "markdown",
      "source": [
        "**Crowd Score Method**\n",
        "\n",
        "---\n",
        "\n"
      ],
      "metadata": {
        "id": "RdxD58QDWJWz"
      }
    },
    {
      "cell_type": "markdown",
      "source": [
        "Prompting GPT-3 for Voting Question (zero-shot and few-shot, with and without personalities)"
      ],
      "metadata": {
        "id": "Ze56cYr2ULUJ"
      }
    },
    {
      "cell_type": "code",
      "source": [
        "import os\n",
        "import openai\n",
        "\n",
        "openai.api_key = \"Insert you API key here\"\n",
        "\n",
        "# PROMPT for Few-Shot \n",
        "funny_joke = \"\\n\\nJoke: In one of its restrooms, the Guggenheim Museum is installing a solid gold toilet. It\\'s perfect for people who have just eaten 24 carrots.\\nClassification: Funny.\"\n",
        "dumb_joke = \"\\n\\nJoke: America\\'s national forests are being severely damaged by the illegal growing of marijuana. This is a huge problem that needs to be addressed.\\nClassification: Boring.\"\n",
        "responses = []\n",
        "\n",
        "for i in range(0,len(jokes)):\n",
        "  for j in range(0,len(personalities)):\n",
        "    responses.append([i,j,openai.Completion.create(\n",
        "      model=\"text-davinci-002\",\n",
        "      prompt=\"Classify the following joke as Funny or Boring.\\n\\nJoke: \" + jokes[i] + \"\\nClassification:\",    # ZERO-SHOT\n",
        "      #prompt=\"Classify the following joke as Funny or Boring.\" + funny_joke + dumb_joke + \"\\n\\nJoke: \" + jokes[i] + \"\\nClassification:\",  # FEW-SHOT\n",
        "      #prompt=\"Classify the following joke as Funny or Boring for a person that enjoys \" + personalities[j] + \" humour.\" + \"\\n\\nJoke: \" + jokes[i] + \"\\nClassification:\",    # ZERO-SHOT\n",
        "      #prompt=\"Classify the following joke as Funny or Boring for a person that enjoys \" + personalities[j] + \" humour.\" + funny_joke + dumb_joke + \"\\n\\nJoke: \" + jokes[i] + \"\\nClassification:\",  # FEW-SHOT\n",
        "      temperature=1,\n",
        "      max_tokens=32,\n",
        "      top_p=1,\n",
        "      frequency_penalty=0,\n",
        "      presence_penalty=0\n",
        "    ).choices[0].text])  \n",
        "    \n",
        "  #  print(i,j,responses[i][j][0].choices[0].text)\n",
        "print(responses)\n",
        "  "
      ],
      "metadata": {
        "id": "xrOCDal526on"
      },
      "execution_count": null,
      "outputs": []
    },
    {
      "cell_type": "markdown",
      "source": [
        "Prompting GPT-3 for Personalities Induction (zero-shot with CoT)"
      ],
      "metadata": {
        "id": "YHNOJdX7oxT2"
      }
    },
    {
      "cell_type": "code",
      "source": [
        "import os\n",
        "import openai\n",
        "\n",
        "openai.api_key = \"Insert you API key here\"\n",
        "\n",
        "responsesCot = []\n",
        "\n",
        "for i in range(0,len(jokes)):\n",
        "  for j in range(0,len(personalities)):\n",
        "    responsesCot.append([i,j,openai.Completion.create(\n",
        "      model=\"text-davinci-002\",\n",
        "      prompt=\"Classify the following joke as Funny or Boring for a person that enjoys \" + personalities[j] + \" humour.\" +  \"\\n\\nJoke: \" + jokes[i] + \"\\nClassification:\" + responses[i*len(personalities)+j][2] + \"Let's think step by step why this [Joke] is \" + responses[i*len(personalities)+j][2]+ \" for a person that enjoys \" + personalities[j] + \" humour.\",    # PROMPT ZERO-SHOT WITH COT\n",
        "      temperature=1,\n",
        "      max_tokens=128,\n",
        "      top_p=1,\n",
        "      frequency_penalty=0,\n",
        "      presence_penalty=0\n",
        "    ).choices[0].text])  \n",
        "\n",
        "print(responsesCot)\n",
        "  "
      ],
      "metadata": {
        "id": "zzA6sPDto3Tf"
      },
      "execution_count": null,
      "outputs": []
    },
    {
      "cell_type": "markdown",
      "source": [
        "Prompting GPT-3 for Auditing "
      ],
      "metadata": {
        "id": "fwc-6NPzqBdh"
      }
    },
    {
      "cell_type": "code",
      "source": [
        "import os\n",
        "import openai\n",
        "\n",
        "openai.api_key = \"Insert you API key here\"\n",
        "\n",
        "responsesAuditing = []\n",
        "\n",
        "for i in range(0,len(jokes)):\n",
        "  for j in range(0,len(personalities)):\n",
        "    responsesAuditing.append([i,j,openai.Completion.create(\n",
        "      model=\"text-davinci-002\",\n",
        "      prompt=\"Provide an answer to the following [Question], replacing [Reasoning], [Joke] and [Classification] slots for their contents. \\n\\nQuestion: Does the [Reasoning] explain why the [Joke] is [Classification]? \\n\\nJoke: \" + jokes[i] + \"\\nReasoning: \" + responsesCot[i*len(personalities)+j][2] + \"\\nClassification: \" + responses[i*len(personalities)+j][2] + \"\\n\\nAnswer (Yes or No):\",\n",
        "      temperature=1,\n",
        "      max_tokens=32,\n",
        "      top_p=1,\n",
        "      frequency_penalty=0,\n",
        "      presence_penalty=0\n",
        "    ).choices[0].text])  \n",
        "\n",
        "print(responsesAuditing)"
      ],
      "metadata": {
        "id": "OpsONZWKqDG5"
      },
      "execution_count": null,
      "outputs": []
    },
    {
      "cell_type": "markdown",
      "source": [
        "Aggregating Crowd Score for All Votes"
      ],
      "metadata": {
        "id": "OGhC0Aq8qdmv"
      }
    },
    {
      "cell_type": "code",
      "source": [
        "jokes_scores = [0] * len(jokes) \n",
        "\n",
        "for i in range(0,len(jokes)):\n",
        "  for j in range(0,len(personalities)):\n",
        "    if (\"Funny\" in responses[i*len(personalities)+j][2]): \n",
        "      jokes_scores[i] += 1\n",
        "\n",
        "print(jokes_scores)"
      ],
      "metadata": {
        "id": "t-GY2zXOnju7"
      },
      "execution_count": null,
      "outputs": []
    },
    {
      "cell_type": "markdown",
      "source": [
        "Calculating number of invalidated votes by auditing"
      ],
      "metadata": {
        "id": "g0cDN1UbWeVU"
      }
    },
    {
      "cell_type": "code",
      "source": [
        "responsesAuditing = [[0, 0, ' No'], [0, 1, ' No'], [0, 2, ' No'], [0, 3, ' No'], [1, 0, ' Yes'], [1, 1, '\\n\\nYes, the reasoning does explain why the joke is classified as Boring for a person that enjoys self-enhancing humour.'], [1, 2, ' No'], [1, 3, '\\n\\nYes'], [2, 0, ' No'], [2, 1, '\\n\\nYes, the reasoning explains why the joke is funny.'], [2, 2, '\\n\\nYes, the reasoning explains why the joke is classified as Boring.'], [2, 3, '\\n\\nNo'], [3, 0, '\\n\\nNo'], [3, 1, '\\n\\nYes, the reasoning explains why the joke is funny. The two men stole diapers, which is not something that people expect to be stolen. This makes'], [3, 2, ' No'], [3, 3, '\\n\\nYes, the reasoning explains why the joke is funny.'], [4, 0, '\\n\\nYes'], [4, 1, '\\n\\nYes'], [4, 2, '\\n\\nYes'], [4, 3, '\\n\\nYes'], [5, 0, ' No'], [5, 1, ' No, the reasoning does not explain why the joke is boring.'], [5, 2, ' No'], [5, 3, '\\n\\nNo'], [6, 0, ' No'], [6, 1, '\\n\\nYes'], [6, 2, '\\n\\nYes, the reasoning explains why the joke is funny.'], [6, 3, '\\n\\nYes'], [7, 0, '\\n\\nYes, the reasoning explains why the joke is funny.'], [7, 1, ' Yes, the reasoning explains why the joke is funny.'], [7, 2, '\\n\\nYes, the reasoning explains why the joke is funny.'], [7, 3, '\\n\\nYes'], [8, 0, '\\n\\nYes'], [8, 1, '\\n\\nNo, the reasoning does not explain why the joke is Boring.'], [8, 2, '\\n\\nYes'], [8, 3, '\\n\\nYes'], [9, 0, ' No'], [9, 1, ' No'], [9, 2, '\\n\\nNo.'], [9, 3, ' Yes'], [10, 0, '\\n\\nYes, the reasoning explains why the joke is funny.'], [10, 1, '\\n\\nNo'], [10, 2, '\\n\\nYes'], [10, 3, '\\n\\nYes'], [11, 0, '\\n\\nYes, the reasoning explains why the joke is funny.'], [11, 1, '\\n\\nYes, the reasoning explains why the joke is funny.'], [11, 2, '\\n\\nYes'], [11, 3, '\\n\\nYes, the reasoning explains why the joke is funny.'], [12, 0, ' No'], [12, 1, ' No'], [12, 2, '\\n\\nYes'], [12, 3, '\\n\\nYes'], [13, 0, '\\n\\nYes, the reasoning does explain why the joke is funny.'], [13, 1, '\\n\\nYes, the reasoning explains why the joke is funny.'], [13, 2, '\\n\\nYes'], [13, 3, '\\n\\nYes'], [14, 0, '\\n\\nYes'], [14, 1, '\\n\\nNo'], [14, 2, '\\n\\nYes'], [14, 3, '\\n\\nYes, the reasoning explains why the joke is funny.'], [15, 0, '\\n\\nYes, the reasoning explains why the joke is funny.'], [15, 1, '\\n\\nYes, the reasoning explains why the joke is funny.'], [15, 2, '\\n\\nYes, the reasoning explains why the joke is funny.'], [15, 3, ' Yes'], [16, 0, '\\n\\nYes, the reasoning explains why the joke is classified as Funny.'], [16, 1, '\\n\\nYes, the reasoning explains why the joke is funny.'], [16, 2, '\\n\\nYes, the reasoning explains why the joke is funny.'], [16, 3, '\\n\\nNo'], [17, 0, '\\n\\nYes, the reasoning explains why the joke is funny.'], [17, 1, '\\n\\nYes'], [17, 2, '\\n\\nYes'], [17, 3, '\\n\\nYes, the reasoning explains why the joke is funny. The self-defeating humour is what makes the joke humorous.'], [18, 0, \" Yes, the positioning of the words 'shares' explains the play on words which classified the joke as funny. \\n\\nYes, the reasoning explains why\"], [18, 1, '\\n\\nYes, the reasoning explains why the joke is funny.'], [18, 2, '\\n\\nYes'], [18, 3, '\\n\\nYes, the reasoning explains why the joke is funny.'], [19, 0, '\\n\\nYes, the reasoning explains why the joke is clever and witty. The Blue Man Group is famous for their blue paint, and they are celebrating their 25'], [19, 1, '\\n\\nNo'], [19, 2, '\\n\\nYes'], [19, 3, ' The reasoning provided explains why the joke is funny.'], [20, 0, '\\n\\nYes, the reasoning explains why the joke is funny.'], [20, 1, ' Yes'], [20, 2, ' Yes'], [20, 3, '\\n\\nYes, the reasoning explains why the joke is classification.'], [21, 0, 'Yes'], [21, 1, ' No'], [21, 2, ' Yes'], [21, 3, '\\n\\nYes, the reasoning explains why the joke is funny.'], [22, 0, ' No'], [22, 1, ' Yes'], [22, 2, ' No'], [22, 3, '\\n\\nYes'], [23, 0, '\\n\\nYes, the reasoning explains why the joke is funny.'], [23, 1, ' Yes'], [23, 2, '\\n\\nYes'], [23, 3, '\\n\\nYes, the reasoning explains why the joke is clever and funny.'], [24, 0, ' No'], [24, 1, ' No'], [24, 2, '\\n\\nYes, the reasoning does explain why the joke is funny for a person that enjoys aggressive humour.'], [24, 3, ' Yes'], [25, 0, '\\n\\nYes, the reasoning does explain why the joke is funny.'], [25, 1, '\\n\\nYes, the reasoning explains why the joke is funny.'], [25, 2, \"\\n\\nYes, the reasoning does explain why the joke is funny. America's national forests being damaged by the illegal growing of marijuana is a serious issue, and\"], [25, 3, '\\n\\nYes, the reasoning behind the joke explains why it is funny. The joke is funny because it is self-defeating, and the person who enjoys'], [26, 0, '\\n\\nYes, the reasoning explains why the joke is funny.'], [26, 1, '\\n\\nYes'], [26, 2, '\\n\\nYes'], [26, 3, ' Yes, the Reasoning explains why the Joke is Funny.'], [27, 0, '\\n\\nYes, the reasoning explains why the joke is funny.'], [27, 1, '\\n\\nYes, the reasoning explains why the joke is funny.'], [27, 2, '\\n\\nYes, the reasoning does explain why the joke is funny.'], [27, 3, '\\n\\nYes, the reasoning explains why the joke is funny.'], [28, 0, '\\n\\nYes, the reasoning explains why the joke is funny.'], [28, 1, '\\n\\nYes, the reasoning explains why the joke is funny.'], [28, 2, ' Yes'], [28, 3, '\\n\\nYes'], [29, 0, '\\n\\nYes, the reasoning explains why the joke is funny.'], [29, 1, ' Yes, the reasoning does explain why the joke is funny.'], [29, 2, '\\n\\nYes, the reasoning explains why the joke is classified as aggressive humour.'], [29, 3, '\\n\\nYes, the reasoning explains why the joke is funny.'], [30, 0, '\\n\\nYes'], [30, 1, '\\n\\nYes, the reasoning explains why the joke is classified as Boring.'], [30, 2, '\\n\\nYes'], [30, 3, '\\n\\nYes, the reasoning explains why the joke is funny.'], [31, 0, '\\n\\nYes, the reasoning explains why the joke is funny.'], [31, 1, '\\n\\nYes, the reasoning explains why the joke is funny.'], [31, 2, '\\n\\nYes, the reasoning explains why the joke is funny.'], [31, 3, '\\n\\nYes, the reasoning explains why the joke is funny.'], [32, 0, ' Yes, the reasoning explains why the joke is funny.'], [32, 1, ' Yes'], [32, 2, '\\n\\nYes'], [32, 3, '\\n\\nYes, the reasoning does explain why the joke is funny for a person that enjoys self-defeating humour.'], [33, 0, '\\n\\nYes, the reasoning explains why the joke is funny.'], [33, 1, '\\n\\nYes, the reasoning explains why the joke is funny.'], [33, 2, '\\n\\nYes'], [33, 3, '\\n\\nYes, the reasoning explains why the joke is funny.'], [34, 0, ' Yes'], [34, 1, '\\n\\nYes, the reasoning explains why the joke is classification.'], [34, 2, '\\n\\nYes, the reasoning explains why the joke is funny.'], [34, 3, '\\n\\nYes, the reasoning explains why the joke is funny.'], [35, 0, '\\n\\nYes'], [35, 1, ' No'], [35, 2, '\\n\\nYes'], [35, 3, '\\n\\nYes'], [36, 0, ' Yes, the reasoning explains why the joke is funny.'], [36, 1, '\\n\\nYes'], [36, 2, '\\n\\nYes, the reasoning explains why the joke is funny.'], [36, 3, '\\n\\nYes, the reasoning explains why the joke is funny.'], [37, 0, '\\n\\nYes, the reasoning explains why the joke is funny.'], [37, 1, '\\n\\nYes'], [37, 2, '\\n\\nYes'], [37, 3, '\\n\\nYes, the Reasoning explains why the Joke is Funny.'], [38, 0, '\\n\\nYes'], [38, 1, ' Yes'], [38, 2, '\\n\\nNo'], [38, 3, '\\n\\nYes, the reasoning does explain why the joke is funny.'], [39, 0, '\\n\\nYes, the reasoning does explain why the joke is funny.'], [39, 1, '\\n\\nYes'], [39, 2, ' Yes'], [39, 3, ' Yes'], [40, 0, ' Yes'], [40, 1, '\\n\\nYes, the reasoning does explain why the joke is funny for a person that enjoys self-enhancing humour.'], [40, 2, '\\n\\nYes'], [40, 3, ' Yes'], [41, 0, '\\n\\nYes, the reasoning explains why the joke is funny.'], [41, 1, '\\n\\nYes'], [41, 2, '\\n\\nYes, the reasoning does explain why the joke is funny.'], [41, 3, '\\n\\nYes'], [42, 0, ' Yes'], [42, 1, '\\n\\nYes, the reasoning explains why the joke is funny.'], [42, 2, ' Yes'], [42, 3, '\\n\\nYes, the reasoning explains why the joke is funny.'], [43, 0, '\\n\\nYes, the reasoning explains why the joke is funny.'], [43, 1, ' Yes'], [43, 2, ' Yes'], [43, 3, '\\n\\nYes, the reasoning explains why the joke is funny.'], [44, 0, 'No'], [44, 1, ' Yes'], [44, 2, '\\n\\nYes, the reasoning explains why the joke is funny. The joke is funny because it is making a pun on the word \"Adidas\" and the'], [44, 3, '\\n\\nYes'], [45, 0, ' Yes'], [45, 1, '\\n\\nYes, the reasoning explains why the joke is funny.'], [45, 2, '\\n\\nYes, the reasoning explains why the joke is funny.'], [45, 3, '\\n\\nYes, the reasoning explains why the joke is funny.'], [46, 0, '\\n\\nYes, the reasoning does explain why the joke is funny.'], [46, 1, '\\n\\nYes, the reasoning explains why the joke is funny.'], [46, 2, '\\n\\nYes, the Reasoning explains why the Joke is Funny.'], [46, 3, '\\n\\nYes, the reasoning explains why the joke is funny.'], [47, 0, '\\n\\nYes, the reasoning explains why the joke is funny. The joke is clever because it employs bathroom humor to make a play on words, and it is'], [47, 1, '\\n\\nYes, the reasoning explains why the joke is funny.'], [47, 2, '\\n\\nYes, the reasoning explains why the joke is funny.'], [47, 3, '\\n\\nYes, the reasoning explains why the joke is Classification.'], [48, 0, '\\n\\nYes'], [48, 1, '\\n\\nYes, the reasoning does explain why the joke is funny for a person who enjoys self-enhancing humour.'], [48, 2, '\\n\\nYes, the reasoning explains why the joke is funny for a person who enjoys aggressive humour.'], [48, 3, '\\n\\nYes, the reasoning explains why the joke is funny.'], [49, 0, '\\n\\nYes'], [49, 1, ' Yes'], [49, 2, '\\n\\nYes, the Reasoning explains why the Joke is Funny.'], [49, 3, ' Yes, the reasoning explains why the joke is funny.'], [50, 0, '\\n\\nYes, the reasoning explains why the joke is funny.'], [50, 1, ' Yes'], [50, 2, '\\n\\nYes, the reasoning explains why the joke is funny. Specifically, the play on words, the element of surprise, and the clever criticism all contribute to'], [50, 3, '\\n\\nYes'], [51, 0, ' Yes'], [51, 1, ' No'], [51, 2, ' No'], [51, 3, ' Yes']]\n",
        "invalid_votes = []\n",
        "invalid_personality = [0]*4\n",
        "\n",
        "for i in range(0,len(jokes)):\n",
        "  for j in range(0,len(personalities)):\n",
        "    if (\"No\" in responsesAuditing[i*len(personalities)+j][2]): \n",
        "      invalid_votes.append([i,j])\n",
        "\n",
        "print(invalid_votes)\n",
        "for i in range(0,len(invalid_votes)):\n",
        "   invalid_personality[invalid_votes[i][1]]+=1\n",
        "\n",
        "print(invalid_personality)"
      ],
      "metadata": {
        "id": "WLBwConbuOSy",
        "colab": {
          "base_uri": "https://localhost:8080/"
        },
        "outputId": "aae6cdcb-b931-4475-fcc6-1cd0cd7a060d"
      },
      "execution_count": 9,
      "outputs": [
        {
          "output_type": "stream",
          "name": "stdout",
          "text": [
            "[[0, 0], [0, 1], [0, 2], [0, 3], [1, 2], [2, 0], [2, 3], [3, 0], [3, 2], [5, 0], [5, 1], [5, 2], [5, 3], [6, 0], [8, 1], [9, 0], [9, 1], [9, 2], [10, 1], [12, 0], [12, 1], [14, 1], [16, 3], [19, 1], [21, 1], [22, 0], [22, 2], [24, 0], [24, 1], [35, 1], [38, 2], [44, 0], [51, 1], [51, 2]]\n",
            "[10, 12, 8, 4]\n"
          ]
        }
      ]
    },
    {
      "cell_type": "markdown",
      "source": [
        "Aggregating Crowd Score for Only Valid Votes"
      ],
      "metadata": {
        "id": "bm2OMrafVtOp"
      }
    },
    {
      "cell_type": "code",
      "source": [
        "jokes_scores = [0] * len(jokes) \n",
        "\n",
        "for i in range(0,len(jokes)):\n",
        "  for j in range(0,len(personalities)):\n",
        "    if (\"Funny\" in responses[i*len(personalities)+j][2] and [i,j] not in invalid_votes): \n",
        "      jokes_scores[i] += 1\n",
        "\n",
        "print(jokes_scores)"
      ],
      "metadata": {
        "id": "BvIMqFE_JWB7"
      },
      "execution_count": null,
      "outputs": []
    },
    {
      "cell_type": "markdown",
      "source": [
        "**Statistics**\n",
        "\n",
        "---\n",
        "\n"
      ],
      "metadata": {
        "id": "wcnLCWiDV1W7"
      }
    },
    {
      "cell_type": "markdown",
      "source": [
        "Calculating F-score and accuracy for Voting Question Results (per personality)"
      ],
      "metadata": {
        "id": "ZK-YtEOypYTl"
      }
    },
    {
      "cell_type": "code",
      "source": [
        "dumbs = [0] * len(personalities)\n",
        "funnies = [0] * len(personalities)\n",
        "tp = [0] * len(personalities)\n",
        "fp = [0] * len(personalities)\n",
        "fn = [0] * len(personalities)\n",
        "tn = [0] * len(personalities)\n",
        "\n",
        "personalities_stats = []\n",
        "dataset_threshold = 15\n",
        "\n",
        "for j in range(0,len(personalities)):\n",
        "  for i in range(0,len(jokes)):\n",
        "    if(\"Boring\" in responses[i*len(personalities)+j][2] and i < dataset_threshold):\n",
        "      dumbs[j] = dumbs[j] + 1\n",
        "      tn[j] = tn[j] + 1\n",
        "\n",
        "    if(\"Boring\" in responses[i*len(personalities)+j][2]  and i >= dataset_threshold):\n",
        "      dumbs[j] = dumbs[j] + 1\n",
        "      fn[j] = fn[j] + 1\n",
        "\n",
        "    if(\"Funny\" in responses[i*len(personalities)+j][2] and i < dataset_threshold):\n",
        "      funnies[j] = funnies[j] + 1\n",
        "      fp[j] = fp[j] + 1\n",
        "\n",
        "    if(\"Funny\" in responses[i*len(personalities)+j][2]  and i >= dataset_threshold):\n",
        "      funnies[j] = funnies[j] + 1\n",
        "      tp[j] = tp[j] + 1\n",
        "\n",
        "\n",
        "  precision = tp[j] / (tp[j] +fp[j])\n",
        "  recall = tp[j] / (tp[j] +fn[j])\n",
        "  fscore = 2.0 * (precision*recall) / (precision+ recall)\n",
        "\n",
        "  tpr = tp[j] / (tp[j] + fn[j])\n",
        "  tnr = tn[j] / (tn[j] + fp[j])\n",
        "  accuracy = (tpr + tnr) / 2.0\n",
        "\n",
        "  print(\"\\nDumbs = \",dumbs[j])\n",
        "  print(\"Funnies = \",funnies[j])\n",
        "  print(\"\\nTrue positives (funnies that should be funny) = \",tp[j],\" of \",len(jokes)-dataset_threshold)\n",
        "  print(\"False positives (funnies that shouldn't be funny) = \",fp[j],\" of \",dataset_threshold)\n",
        "  print(\"True negatives (dumbs that should be dumbs) = \",tn[j],\" of \",dataset_threshold)\n",
        "  print(\"False negatives (dumbs that shouldn't be dumbs) = \",fn[j],\"of \",len(jokes)-dataset_threshold)\n",
        "  print(\"F-score = \",round(fscore,2))\n",
        "  print(\"Accuracy = \",round(accuracy,2))\n",
        "\n",
        "  personalities_stats.append([dumbs[j],funnies[j],tp[j],fp[j],tn[j],fn[j],round(fscore,2),round(accuracy,2)])\n",
        "\n",
        "print(personalities_stats)"
      ],
      "metadata": {
        "id": "r2xstasfNPW5"
      },
      "execution_count": null,
      "outputs": []
    },
    {
      "cell_type": "markdown",
      "source": [
        "Calculating average votes (for funny) per personality\n",
        "\n"
      ],
      "metadata": {
        "id": "pg_o_hPNIUkF"
      }
    },
    {
      "cell_type": "code",
      "source": [
        "a = [[12, 32, 27, 5, 7, 5, 0.84, 0.71], [12, 37, 28, 9, 6, 6, 0.79, 0.61], [7, 42, 33, 9, 6, 1, 0.87, 0.69], [8, 41, 31, 10, 4, 4, 0.82, 0.59]]\n",
        "b = [[9, 33, 28, 5, 5, 4, 0.86, 0.69], [12, 36, 29, 7, 5, 7, 0.81, 0.61], [10, 37, 28, 9, 5, 5, 0.8, 0.6], [3, 48, 36, 12, 3, 0, 0.86, 0.6]]\n",
        "c = [[9, 38, 30, 8, 6, 3, 0.85, 0.67], [14, 35, 27, 8, 7, 7, 0.78, 0.63], [7, 40, 31, 9, 5, 2, 0.85, 0.65], [1, 49, 36, 13, 1, 0, 0.85, 0.54]]\n",
        "\n",
        "mean = [0.0]*4 \n",
        "for i in range(0,4):\n",
        "  mean[i] = (a[i][1] + b[i][1] + c[i][1])/3.0\n",
        "\n",
        "print(mean)"
      ],
      "metadata": {
        "id": "8CfKTmS_EJ4g",
        "colab": {
          "base_uri": "https://localhost:8080/"
        },
        "outputId": "14635946-22fc-4981-8708-52352547b1b5"
      },
      "execution_count": 1,
      "outputs": [
        {
          "output_type": "stream",
          "name": "stdout",
          "text": [
            "[34.333333333333336, 36.0, 39.666666666666664, 46.0]\n"
          ]
        }
      ]
    },
    {
      "cell_type": "markdown",
      "source": [
        "Normalizing and calculating average of all votes and only valid votes"
      ],
      "metadata": {
        "id": "l1ptnpFNSY4k"
      }
    },
    {
      "cell_type": "code",
      "source": [
        "array_all_votes = [[0, 2, 2, 3, 4, 0, 2, 3, 3, 0, 4, 3, 2, 3, 2, 4, 2, 4, 4, 3, 2, 2, 1, 3, 2, 3, 3, 2, 4, 2, 2, 4, 4, 4, 4, 3, 4, 4, 3, 4, 3, 4, 4, 4, 3, 4, 4, 2, 4, 4, 3, 3],\n",
        "         [0, 2, 3, 1, 4, 0, 2, 4, 1, 2, 3, 4, 2, 3, 2, 3, 4, 4, 3, 4, 2, 1, 2, 4, 3, 4, 3, 4, 4, 2, 2, 4, 3, 4, 3, 3, 2, 3, 3, 3, 4, 3, 4, 4, 3, 4, 4, 4, 4, 3, 4, 3],\n",
        "         [2, 2, 2, 1, 4, 0, 3, 4, 3, 2, 4, 3, 2, 4, 2, 2, 4, 2, 3, 4, 3, 4, 2, 4, 2, 4, 4, 3, 4, 4, 3, 4, 2, 4, 3, 4, 4, 4, 2, 4, 3, 3, 4, 3, 4, 3, 4, 4, 3, 4, 3, 3]]\n",
        "\n",
        "array_only_valids = [[0, 2, 1, 2, 4, 0, 3, 4, 2, 1, 3, 4, 2, 3, 3, 4, 3, 4, 4, 3, 4, 3, 2, 4, 2, 4, 4, 4, 4, 3, 1, 4, 4, 4, 3, 3, 4, 4, 3, 4, 4, 3, 4, 4, 3, 4, 3, 4, 3, 3, 3, 2],\n",
        "                     [0, 2, 3, 1, 4, 0, 2, 4, 1, 2, 3, 4, 2, 3, 2, 3, 3, 4, 3, 4, 2, 1, 2, 4, 3, 4, 3, 4, 4, 2, 2, 4, 3, 3, 3, 3, 2, 3, 3, 3, 4, 3, 4, 4, 3, 4, 4, 4, 4, 3, 4, 3],\n",
        "                     [1, 2, 2, 1, 4, 0, 3, 4, 3, 2, 4, 3, 2, 4, 2, 2, 3, 2, 3, 4, 2, 3, 2, 4, 2, 4, 3, 3, 4, 3, 3, 4, 2, 3, 2, 3, 3, 3, 1, 4, 3, 3, 4, 3, 3, 3, 4, 4, 3, 4, 3, 2]]\n",
        "\n",
        "for i in range(len(jokes)):\n",
        "  for j in range(3):\n",
        "    array_only_valids[j][i] = 1 + 3*(array_only_valids[j][i]/4)\n",
        "    array_all_votes[j][i] = 1 + 3*(array_all_votes[j][i]/4)\n",
        "\n",
        "mean_valids = [0] * 52\n",
        "mean_all = [0] * 52\n",
        "\n",
        "for i in range(len(jokes)):\n",
        "  mean_valids[i] = (array_only_valids[0][i] + array_only_valids[1][i] + array_only_valids[2][i])/3\n",
        "  mean_all[i] = (array_all_votes[0][i] + array_all_votes[1][i] + array_all_votes[2][i])/3\n",
        "\n",
        "print(mean_valids,mean_all)"
      ],
      "metadata": {
        "id": "8JgbLOuBGSob"
      },
      "execution_count": null,
      "outputs": []
    },
    {
      "cell_type": "markdown",
      "source": [
        "Graph of Average Crowdscore (all votes and only valid) and Human Rating (Toplyn) - 3 runs"
      ],
      "metadata": {
        "id": "At_lQsU-H7wL"
      }
    },
    {
      "cell_type": "code",
      "source": [
        "import numpy as np\n",
        "import matplotlib.pyplot as plt\n",
        "\n",
        "# w = human rating, y = crowd score with only valid votes, v = crowd score with all votes (valid and invalid)\n",
        "# y and v use normalized votes in a scale between 1 and 4\n",
        "w = [1.53, 1.53, 1.6, 1.6, 1.67, 1.73, 1.73, 1.73, 1.73, 1.8, 1.8, 1.8, 1.87, 1.93, 1.93, 2, 2.07, 2.07, 2.07, 2.13, 2.13, 2.2, 2.2, 2.27, 2.27, 2.33, 2.33, 2.33, 2.33, 2.4, 2.47, 2.47, 2.47, 2.53, 2.53, 2.53, 2.6, 2.6, 2.67, 2.73, 2.73, 2.73, 2.8, 2.8, 2.87, 2.93, 2.93, 2.93, 3.07, 3.13, 3.2, 3.2]\n",
        "y = [1.25, 2.5, 2.5, 2.0, 4.0, 1.0, 3.0, 4.0, 2.5, 2.25, 3.5, 3.75, 2.5, 3.5, 2.75, 3.25, 3.25, 3.5, 3.5, 3.75, 3.0, 2.75, 2.5, 4.0, 2.75, 4.0, 3.5, 3.75, 4.0, 3.0, 2.5, 4.0, 3.25, 3.5, 3.0, 3.25, 3.25, 3.5, 2.75, 3.75, 3.75, 3.25, 4.0, 3.75, 3.25, 3.75, 3.75, 4.0, 3.5, 3.5, 3.5, 2.75]\n",
        "v = [1.5, 2.5, 2.75, 2.25, 4.0, 1.0, 2.75, 3.75, 2.75, 2.0, 3.75, 3.5, 2.5, 3.5, 2.5, 3.25, 3.5, 3.5, 3.5, 3.75, 2.75, 2.75, 2.25, 3.75, 2.75, 3.75, 3.5, 3.25, 4.0, 3.0, 2.75, 4.0, 3.25, 4.0, 3.5, 3.5, 3.5, 3.75, 3.0, 3.75, 3.5, 3.5, 4.0, 3.75, 3.5, 3.75, 4.0, 3.5, 3.75, 3.75, 3.5, 3.25]\n",
        "\n",
        "#define data\n",
        "x = np.array(list(range(0, 52)))\n",
        "y = np.array(y)\n",
        "v = np.array(v)\n",
        "\n",
        "#calculate equation for trendline\n",
        "z = np.polyfit(x, y, 1)\n",
        "p = np.poly1d(z)\n",
        "t = np.polyfit(x, v, 1)\n",
        "q = np.poly1d(t)\n",
        "\n",
        "plt.xlabel(\"Jokes (least funny to funniest)\")\n",
        "plt.ylabel(\"Average score per joke\")\n",
        "\n",
        "#add trendline to plot\n",
        "plt.plot(x, p(x), '--b',label=\"Crowd Score with only valid votes\")\n",
        "plt.plot(x, q(x), '--y', label=\"Crowd Score with all votes\")\n",
        "plt.plot(x, w, '-r', label=\"Human Rating\")\n",
        "\n",
        "plt.legend(loc='lower right', frameon=False)\n"
      ],
      "metadata": {
        "colab": {
          "base_uri": "https://localhost:8080/",
          "height": 297
        },
        "id": "jm93gV1IEJ03",
        "outputId": "37a95ed0-def3-4e04-9bbe-a18f3482ec92"
      },
      "execution_count": null,
      "outputs": [
        {
          "output_type": "execute_result",
          "data": {
            "text/plain": [
              "<matplotlib.legend.Legend at 0x7f9575833b80>"
            ]
          },
          "metadata": {},
          "execution_count": 64
        },
        {
          "output_type": "display_data",
          "data": {
            "text/plain": [
              "<Figure size 432x288 with 1 Axes>"
            ],
            "image/png": "[encoded data removed]"
          },
          "metadata": {
            "needs_background": "light"
          }
        }
      ]
    },
    {
      "cell_type": "markdown",
      "source": [
        "Graph for personalities"
      ],
      "metadata": {
        "id": "yN8ilryY0XxJ"
      }
    },
    {
      "cell_type": "code",
      "source": [
        "import numpy as np\n",
        "import matplotlib.pyplot as plt\n",
        "# include if using a Jupyter notebook\n",
        "%matplotlib inline\n",
        "\n",
        "affiliative = np.array([32,33,38])\n",
        "self_enhancing = np.array([37,36,35])\n",
        "aggressive = np.array([42,37,40])\n",
        "self_defeating = np.array([41,48,49])\n",
        "zero_shot = np.array([43,37,38 ])\n",
        "\n",
        "affiliative_mean = np.mean(affiliative)\n",
        "self_enhancing_mean = np.mean(self_enhancing)\n",
        "aggressive_mean = np.mean(aggressive)\n",
        "self_defeating_mean = np.mean(self_defeating)\n",
        "zero_shot_mean = np.mean(zero_shot)\n",
        "\n",
        "affiliative_std = np.std(affiliative)\n",
        "self_enhancing_std = np.std(self_enhancing)\n",
        "aggressive_std = np.std(aggressive)\n",
        "self_defeating_std = np.std(self_defeating)\n",
        "zero_shot_std = np.std(zero_shot)\n",
        "\n",
        "labels = ['Affiliative', 'Self-Enhancing', 'Zero-Shot', 'Aggressive','Self-Defeating']\n",
        "x_pos = np.arange(len(labels))\n",
        "CTEs = [affiliative_mean, self_enhancing_mean, zero_shot_mean, aggressive_mean, self_defeating_mean]\n",
        "error = [affiliative_std, self_enhancing_std, zero_shot_std, aggressive_std, self_defeating_std]\n",
        "\n",
        "# Build the plot\n",
        "fig, ax = plt.subplots()\n",
        "ax.bar(x_pos, CTEs,\n",
        "       yerr=error,\n",
        "       align='center',\n",
        "       alpha=0.5,\n",
        "       ecolor='black',\n",
        "       capsize=10)\n",
        "ax.set_ylabel('Number of votes for funny jokes')\n",
        "ax.set_xticks(x_pos)\n",
        "ax.set_xticklabels(labels)\n",
        "ax.yaxis.grid(True)\n",
        "\n",
        "# Save the figure and show\n",
        "plt.tight_layout()\n",
        "plt.savefig('bar_plot_with_error_bars.png')\n",
        "plt.show()"
      ],
      "metadata": {
        "colab": {
          "base_uri": "https://localhost:8080/",
          "height": 297
        },
        "id": "2GlN6Fnm0YCk",
        "outputId": "3287ca22-3af8-4703-ea94-eaf7c5320bb4"
      },
      "execution_count": null,
      "outputs": [
        {
          "output_type": "display_data",
          "data": {
            "text/plain": [
              "<Figure size 432x288 with 1 Axes>"
            ],
            "image/png": "[encoded data removed]"
          },
          "metadata": {
            "needs_background": "light"
          }
        }
      ]
    },
    {
      "cell_type": "markdown",
      "source": [
        "Graph for personalities invalid votes"
      ],
      "metadata": {
        "id": "CL8fY_SrRA3a"
      }
    },
    {
      "cell_type": "code",
      "source": [
        "import numpy as np\n",
        "import matplotlib.pyplot as plt\n",
        "# include if using a Jupyter notebook\n",
        "%matplotlib inline\n",
        "\n",
        "affiliative = np.array([10,8,10])\n",
        "self_enhancing = np.array([12,13,12])\n",
        "aggressive = np.array([6,6,8])\n",
        "self_defeating = np.array([3,3,4])\n",
        "\n",
        "affiliative_mean = np.mean(affiliative)\n",
        "self_enhancing_mean = np.mean(self_enhancing)\n",
        "aggressive_mean = np.mean(aggressive)\n",
        "self_defeating_mean = np.mean(self_defeating)\n",
        "\n",
        "affiliative_std = np.std(affiliative)\n",
        "self_enhancing_std = np.std(self_enhancing)\n",
        "aggressive_std = np.std(aggressive)\n",
        "self_defeating_std = np.std(self_defeating)\n",
        "\n",
        "labels = ['Affiliative', 'Self-Enhancing', 'Aggressive','Self-Defeating']\n",
        "x_pos = np.arange(len(labels))\n",
        "CTEs = [affiliative_mean, self_enhancing_mean, aggressive_mean, self_defeating_mean]\n",
        "error = [affiliative_std, self_enhancing_std, aggressive_std, self_defeating_std]\n",
        "\n",
        "# Build the plot\n",
        "fig, ax = plt.subplots()\n",
        "ax.bar(x_pos, CTEs,\n",
        "       yerr=error,\n",
        "       align='center',\n",
        "       alpha=0.5,\n",
        "       ecolor='black',\n",
        "       capsize=10)\n",
        "ax.set_ylabel('Number of invalidated votes')\n",
        "ax.set_xticks(x_pos)\n",
        "ax.set_xticklabels(labels)\n",
        "ax.yaxis.grid(True)\n",
        "\n",
        "# Save the figure and show\n",
        "plt.tight_layout()\n",
        "plt.savefig('bar_plot_with_error_bars.png')\n",
        "plt.show()"
      ],
      "metadata": {
        "colab": {
          "base_uri": "https://localhost:8080/",
          "height": 297
        },
        "outputId": "69ff564f-a6a6-4eec-946a-002b8d9c4d9a",
        "id": "PIaytyrRQ-Dn"
      },
      "execution_count": 10,
      "outputs": [
        {
          "output_type": "display_data",
          "data": {
            "text/plain": [
              "<Figure size 432x288 with 1 Axes>"
            ],
            "image/png": "[encoded data removed]"
          },
          "metadata": {
            "needs_background": "light"
          }
        }
      ]
    }
  ]
}